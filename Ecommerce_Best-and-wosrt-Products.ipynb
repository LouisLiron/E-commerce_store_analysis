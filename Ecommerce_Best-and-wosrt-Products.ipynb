{
 "cells": [
  {
   "cell_type": "code",
   "execution_count": 1,
   "id": "1fa45ee0-2887-4f5c-8384-ec7e110c9365",
   "metadata": {},
   "outputs": [],
   "source": [
    "#importing necessary libraries\n",
    "import numpy as np\n",
    "import pandas as pd \n",
    "import matplotlib.pyplot as plt\n",
    "import seaborn as sns\n",
    "sns.set(style='dark')\n",
    "import warnings \n",
    "warnings.filterwarnings('ignore')"
   ]
  },
  {
   "cell_type": "code",
   "execution_count": 2,
   "id": "3744cffa-ee1e-49ec-88e2-b23bee68c9c4",
   "metadata": {},
   "outputs": [],
   "source": [
    "#Loading in the dataset \n",
    "df = pd.read_csv('categorized_ecommerce.csv', index_col=0, header=0, parse_dates=True, infer_datetime_format=True)"
   ]
  },
  {
   "cell_type": "code",
   "execution_count": 3,
   "id": "f10caa29-2350-46fb-95da-9f522d72c560",
   "metadata": {},
   "outputs": [],
   "source": [
    "# Grouping the Description column by the Total column in descending order\n",
    "product_sales = df.groupby('Description')['Total'].sum().reset_index()"
   ]
  },
  {
   "cell_type": "code",
   "execution_count": 4,
   "id": "bb108dfc-5167-4da8-b78c-0878b4b3484f",
   "metadata": {},
   "outputs": [],
   "source": [
    "# Storing the data in descending order to have the best products at the top\n",
    "top_selling_products = product_sales.sort_values(by='Total', ascending=False)"
   ]
  },
  {
   "cell_type": "code",
   "execution_count": 5,
   "id": "d4422397-d568-4779-8d84-ac58faac73f0",
   "metadata": {},
   "outputs": [
    {
     "name": "stdout",
     "output_type": "stream",
     "text": [
      "Top selling products:\n",
      "                             Description     Total\n",
      "1062                      DOTCOM POSTAGE  206249.9\n",
      "2834            REGENCY CAKESTAND 3 TIER  174479.5\n",
      "2369         PAPER CRAFT , LITTLE BIRDIE  168469.6\n",
      "3816  WHITE HANGING HEART T-LIGHT HOLDER  106314.8\n",
      "2395                       PARTY BUNTING   99510.0\n"
     ]
    }
   ],
   "source": [
    "print('Top selling products:')\n",
    "print(top_selling_products.head())"
   ]
  },
  {
   "cell_type": "code",
   "execution_count": 6,
   "id": "bffb7d8a-5305-4e1d-83b4-d45eb18d9dde",
   "metadata": {},
   "outputs": [],
   "source": [
    "#Creating a new column in the product_sales dataframe to contain the percent change\n",
    "product_sales['Percent_change'] = product_sales['Total'].pct_change()"
   ]
  },
  {
   "cell_type": "code",
   "execution_count": 7,
   "id": "57c7b13d-c017-45ca-b4be-e4ff65c4bef0",
   "metadata": {},
   "outputs": [],
   "source": [
    "#Storing the products with significant increases and decreases in two separate dataframes\n",
    "significant_increase = product_sales[product_sales['Percent_change'] > 0.2]\n",
    "significant_decrease = product_sales[product_sales['Percent_change'] < 0.2]"
   ]
  },
  {
   "cell_type": "code",
   "execution_count": 8,
   "id": "81b3dcc3-64a4-4205-b793-799203d6913d",
   "metadata": {},
   "outputs": [
    {
     "name": "stdout",
     "output_type": "stream",
     "text": [
      "Products with significant increase in sales:\n",
      "                             Description    Total  Percent_change\n",
      "1546     GREEN REGENCY TEACUP AND SAUCER  22836.5    10379.227273\n",
      "110          60 TEATIME FAIRY CAKE CASES   9171.1     7641.583333\n",
      "3123          SET OF 3 REGENCY CAKE TINS  31164.9     5770.277778\n",
      "1398  GARDENERS KNEELING PAD CUP OF TEA   11805.6     3471.235294\n",
      "2722                  RABBIT NIGHT LIGHT  66949.0     2823.852321\n",
      "3044      SET 12 COLOURING PENCILS DOILY   1637.8     2728.666667\n",
      "3211  SET/10 BLUE POLKADOT PARTY CANDLES   4826.8     2412.400000\n",
      "2161  MULTI COLOUR SILVER T-LIGHT HOLDER   8753.5     2187.375000\n",
      "3260      SET/6 PINK  BUTTERFLY T-LIGHTS   4011.7     1909.333333\n",
      "1385    FUNKY WASHING UP GLOVES ASSORTED   2108.3     1755.916667\n"
     ]
    }
   ],
   "source": [
    "print('Products with significant increase in sales:')\n",
    "print(significant_increase.sort_values(by='Percent_change', ascending=False).head(10))"
   ]
  },
  {
   "cell_type": "code",
   "execution_count": 9,
   "id": "00fb1d72-3567-4b4f-85a6-6a975e84187e",
   "metadata": {},
   "outputs": [
    {
     "name": "stdout",
     "output_type": "stream",
     "text": [
      "Products with significant decrease in sales:\n",
      "                            Description   Total  Percent_change\n",
      "3032   SET 10 CARDS XMAS GRAPHIC  17218    17.4        0.200000\n",
      "528               BOOM BOX SPEAKER BOYS  1296.6        0.198115\n",
      "3369          SMALL HEART FLOWERS HOOK   1561.0        0.196994\n",
      "2740          RECYCLED ACAPULCO MAT RED  3895.1        0.194706\n",
      "1766              JAM JAR WITH PINK LID  3294.0        0.193176\n",
      "2961   S/12 VANILLA  BOTANICAL T-LIGHTS   662.5        0.193049\n",
      "252   ASSORTED TUTTI FRUTTI SMALL PURSE   992.3        0.191952\n",
      "1600       HANGING ENGRAVED METAL HEART  1250.4        0.190290\n",
      "1379       FULL ENGLISH BREAKFAST PLATE  6931.9        0.187539\n",
      "1601      HANGING FAIRY CAKE DECORATION  1483.8        0.186660\n"
     ]
    }
   ],
   "source": [
    "print('Products with significant decrease in sales:')\n",
    "print(significant_decrease.sort_values(by='Percent_change', ascending=False).head(10))"
   ]
  },
  {
   "cell_type": "code",
   "execution_count": 25,
   "id": "fd459474-7843-4a1b-aff3-a36fa7ac2595",
   "metadata": {},
   "outputs": [],
   "source": [
    "#Storing the significant_increase as a pandas dataframe \n",
    "significant_increase = pd.DataFrame(significant_increase.sort_values(by='Percent_change', ascending=False))"
   ]
  },
  {
   "cell_type": "code",
   "execution_count": 24,
   "id": "accad6f4-39ee-4e41-b2f2-789ed221d7b5",
   "metadata": {},
   "outputs": [],
   "source": [
    "#Storing the significant_decrease as a pandas dataframe \n",
    "significant_decrease = pd.DataFrame(significant_decrease.sort_values(by='Percent_change', ascending=False))"
   ]
  },
  {
   "cell_type": "code",
   "execution_count": 23,
   "id": "5f2b1feb-69a3-4fd2-8539-26d2734351a6",
   "metadata": {},
   "outputs": [
    {
     "data": {
      "text/html": [
       "<div>\n",
       "<style scoped>\n",
       "    .dataframe tbody tr th:only-of-type {\n",
       "        vertical-align: middle;\n",
       "    }\n",
       "\n",
       "    .dataframe tbody tr th {\n",
       "        vertical-align: top;\n",
       "    }\n",
       "\n",
       "    .dataframe thead th {\n",
       "        text-align: right;\n",
       "    }\n",
       "</style>\n",
       "<table border=\"1\" class=\"dataframe\">\n",
       "  <thead>\n",
       "    <tr style=\"text-align: right;\">\n",
       "      <th></th>\n",
       "      <th>Description</th>\n",
       "      <th>Total</th>\n",
       "      <th>Percent_change</th>\n",
       "    </tr>\n",
       "  </thead>\n",
       "  <tbody>\n",
       "    <tr>\n",
       "      <th>3032</th>\n",
       "      <td>SET 10 CARDS XMAS GRAPHIC  17218</td>\n",
       "      <td>17.4</td>\n",
       "      <td>0.200000</td>\n",
       "    </tr>\n",
       "    <tr>\n",
       "      <th>528</th>\n",
       "      <td>BOOM BOX SPEAKER BOYS</td>\n",
       "      <td>1296.6</td>\n",
       "      <td>0.198115</td>\n",
       "    </tr>\n",
       "    <tr>\n",
       "      <th>3369</th>\n",
       "      <td>SMALL HEART FLOWERS HOOK</td>\n",
       "      <td>1561.0</td>\n",
       "      <td>0.196994</td>\n",
       "    </tr>\n",
       "    <tr>\n",
       "      <th>2740</th>\n",
       "      <td>RECYCLED ACAPULCO MAT RED</td>\n",
       "      <td>3895.1</td>\n",
       "      <td>0.194706</td>\n",
       "    </tr>\n",
       "    <tr>\n",
       "      <th>1766</th>\n",
       "      <td>JAM JAR WITH PINK LID</td>\n",
       "      <td>3294.0</td>\n",
       "      <td>0.193176</td>\n",
       "    </tr>\n",
       "  </tbody>\n",
       "</table>\n",
       "</div>"
      ],
      "text/plain": [
       "                           Description   Total  Percent_change\n",
       "3032  SET 10 CARDS XMAS GRAPHIC  17218    17.4        0.200000\n",
       "528              BOOM BOX SPEAKER BOYS  1296.6        0.198115\n",
       "3369         SMALL HEART FLOWERS HOOK   1561.0        0.196994\n",
       "2740         RECYCLED ACAPULCO MAT RED  3895.1        0.194706\n",
       "1766             JAM JAR WITH PINK LID  3294.0        0.193176"
      ]
     },
     "execution_count": 23,
     "metadata": {},
     "output_type": "execute_result"
    }
   ],
   "source": [
    "#Viewing the first 5 rows\n",
    "significant_decrease.head()"
   ]
  },
  {
   "cell_type": "code",
   "execution_count": 22,
   "id": "8e0e1fe8-17b8-45bd-b405-d839187a0a3d",
   "metadata": {},
   "outputs": [
    {
     "data": {
      "text/html": [
       "<div>\n",
       "<style scoped>\n",
       "    .dataframe tbody tr th:only-of-type {\n",
       "        vertical-align: middle;\n",
       "    }\n",
       "\n",
       "    .dataframe tbody tr th {\n",
       "        vertical-align: top;\n",
       "    }\n",
       "\n",
       "    .dataframe thead th {\n",
       "        text-align: right;\n",
       "    }\n",
       "</style>\n",
       "<table border=\"1\" class=\"dataframe\">\n",
       "  <thead>\n",
       "    <tr style=\"text-align: right;\">\n",
       "      <th></th>\n",
       "      <th>Description</th>\n",
       "      <th>Total</th>\n",
       "      <th>Percent_change</th>\n",
       "    </tr>\n",
       "  </thead>\n",
       "  <tbody>\n",
       "    <tr>\n",
       "      <th>1546</th>\n",
       "      <td>GREEN REGENCY TEACUP AND SAUCER</td>\n",
       "      <td>22836.5</td>\n",
       "      <td>10379.227273</td>\n",
       "    </tr>\n",
       "    <tr>\n",
       "      <th>110</th>\n",
       "      <td>60 TEATIME FAIRY CAKE CASES</td>\n",
       "      <td>9171.1</td>\n",
       "      <td>7641.583333</td>\n",
       "    </tr>\n",
       "    <tr>\n",
       "      <th>3123</th>\n",
       "      <td>SET OF 3 REGENCY CAKE TINS</td>\n",
       "      <td>31164.9</td>\n",
       "      <td>5770.277778</td>\n",
       "    </tr>\n",
       "    <tr>\n",
       "      <th>1398</th>\n",
       "      <td>GARDENERS KNEELING PAD CUP OF TEA</td>\n",
       "      <td>11805.6</td>\n",
       "      <td>3471.235294</td>\n",
       "    </tr>\n",
       "    <tr>\n",
       "      <th>2722</th>\n",
       "      <td>RABBIT NIGHT LIGHT</td>\n",
       "      <td>66949.0</td>\n",
       "      <td>2823.852321</td>\n",
       "    </tr>\n",
       "  </tbody>\n",
       "</table>\n",
       "</div>"
      ],
      "text/plain": [
       "                             Description    Total  Percent_change\n",
       "1546     GREEN REGENCY TEACUP AND SAUCER  22836.5    10379.227273\n",
       "110          60 TEATIME FAIRY CAKE CASES   9171.1     7641.583333\n",
       "3123          SET OF 3 REGENCY CAKE TINS  31164.9     5770.277778\n",
       "1398  GARDENERS KNEELING PAD CUP OF TEA   11805.6     3471.235294\n",
       "2722                  RABBIT NIGHT LIGHT  66949.0     2823.852321"
      ]
     },
     "execution_count": 22,
     "metadata": {},
     "output_type": "execute_result"
    }
   ],
   "source": [
    "# Viewing the first 5 rows\n",
    "significant_increase.head()"
   ]
  }
 ],
 "metadata": {
  "kernelspec": {
   "display_name": "Python 3 (ipykernel)",
   "language": "python",
   "name": "python3"
  },
  "language_info": {
   "codemirror_mode": {
    "name": "ipython",
    "version": 3
   },
   "file_extension": ".py",
   "mimetype": "text/x-python",
   "name": "python",
   "nbconvert_exporter": "python",
   "pygments_lexer": "ipython3",
   "version": "3.11.1"
  }
 },
 "nbformat": 4,
 "nbformat_minor": 5
}
